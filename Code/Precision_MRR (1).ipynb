{
 "cells": [
  {
   "cell_type": "code",
   "execution_count": 66,
   "metadata": {},
   "outputs": [],
   "source": [
    "import pandas as pd\n",
    "import numpy as np\n",
    "np.seterr(divide='ignore', invalid='ignore')\n",
    "import os\n",
    "import ftfy\n",
    "import re\n",
    "import nltk\n",
    "from nltk.corpus import stopwords\n",
    "from nltk import PorterStemmer\n",
    "from nltk.tokenize import word_tokenize\n",
    "from nltk.stem import WordNetLemmatizer\n",
    "\n",
    "\n"
   ]
  },
  {
   "cell_type": "code",
   "execution_count": 67,
   "metadata": {},
   "outputs": [],
   "source": [
    "w2v_google=\"/home/ndl/Result4/google_W2V_CosSim_\"\n",
    "ft=\"/home/ndl/Result4/FastText_CosSim_\"\n",
    "glove=\"/home/ndl/Result4/Glove_CosSim_\"\n",
    "glove_twitter=\"/home/ndl/Result4/Glove_Twitter_CosSim_\"\n",
    "\n",
    "countvec=\"/home/ndl/Result4/Count_Vec_CosSim_\"\n",
    "tfidf=\"/home/ndl/Result4/TFIDF_Vec_CosSim_\"\n",
    "#nounoverlap=\n",
    "w2v=\"/home/ndl/Result4/Word2Vec_CosSim_\""
   ]
  },
  {
   "cell_type": "code",
   "execution_count": 68,
   "metadata": {},
   "outputs": [],
   "source": [
    "#import random\n",
    "#n=[]\n",
    "#for i in range(0,5):\n",
    " #   r1=random.randint(0,len(depress_original_list))\n",
    "  #  n.append(r1)\n",
    "#n"
   ]
  },
  {
   "cell_type": "code",
   "execution_count": 109,
   "metadata": {},
   "outputs": [],
   "source": [
    "#XX\n",
    "\n",
    "#name=['Count_Vec','TFIDF_Vec','NounOverlap','Word2Vec','google_W2V','FastText','Glove','Glove_Twitter']\n",
    "#import shutil\n",
    "#for i in n1:\n",
    "    #for j in name:\n",
    "        \n",
    "        #shutil.copy(\"/home/ndl/Result/\"+j+\"/Cos_Sim/\"+j+\"_CosSim_\"+str(i)+\".csv\",\"/home/ndl/Project/Result5\")\n",
    "        #shutil.copy(\"/home/ndl/Result/\"+j+\"/Cos_Sim/\"+j+\"_CosSim_\"+str(i)+\".csv\",\"/home/ndl/Result4\")\n",
    "        \n",
    "        \n",
    "        \n",
    "        "
   ]
  },
  {
   "cell_type": "code",
   "execution_count": 70,
   "metadata": {},
   "outputs": [
    {
     "data": {
      "text/plain": [
       "['CountVec',\n",
       " 'TFIDF_Vec',\n",
       " 'NounOverlap',\n",
       " 'Word2Vec',\n",
       " 'googleW2V',\n",
       " 'FastText',\n",
       " 'Glove',\n",
       " 'Glove_Twitter']"
      ]
     },
     "execution_count": 70,
     "metadata": {},
     "output_type": "execute_result"
    }
   ],
   "source": [
    "name=['CountVec','TFIDF_Vec','NounOverlap','Word2Vec','googleW2V','FastText','Glove','Glove_Twitter']\n",
    "name"
   ]
  },
  {
   "cell_type": "code",
   "execution_count": 107,
   "metadata": {},
   "outputs": [
    {
     "data": {
      "text/plain": [
       "[124, 368, 137, 226, 438]"
      ]
     },
     "execution_count": 107,
     "metadata": {},
     "output_type": "execute_result"
    }
   ],
   "source": [
    "n1=[124,368,137,226,438]\n",
    "n1"
   ]
  },
  {
   "cell_type": "code",
   "execution_count": 72,
   "metadata": {},
   "outputs": [],
   "source": [
    "#function for calculating precision\n",
    "\n",
    "\n",
    "def cal_precision(d1):\n",
    "    r = d1[\"Relevant\"].tolist()\n",
    "    r\n",
    "    c=0\n",
    "    for i in r:\n",
    "        if i==1:\n",
    "            c=c+1\n",
    "    #c\n",
    "    precision0=c/len(r)\n",
    "    #print(precision0)\n",
    "    return(precision0)\n"
   ]
  },
  {
   "cell_type": "code",
   "execution_count": 73,
   "metadata": {},
   "outputs": [],
   "source": [
    "#Fnction for calculating MRR_list\n",
    "\n",
    "def mrr(d2,c):\n",
    "    #c=1\n",
    "    for i in d2:\n",
    "        if i==1:\n",
    "            #print(c)\n",
    "            return (1/c)\n",
    "            break\n",
    "        c=c+1\n",
    "    "
   ]
  },
  {
   "cell_type": "markdown",
   "metadata": {},
   "source": [
    "# google w2v"
   ]
  },
  {
   "cell_type": "code",
   "execution_count": 74,
   "metadata": {},
   "outputs": [
    {
     "name": "stdout",
     "output_type": "stream",
     "text": [
      "Google W2V\n",
      "[0.6, 0.6, 0.4, 0.4, 0.6]\n"
     ]
    }
   ],
   "source": [
    "print(\"Google W2V\")\n",
    "precision_list=[]\n",
    "for i in n1:\n",
    "\n",
    "        #d1=pd.read_csv('/home/ndl/Result4/google_W2V_CosSim_'+str(i)+'.csv')\n",
    "        d1=pd.read_csv(w2v_google+str(i)+'.csv')\n",
    "        precision_list.append(cal_precision(d1))\n",
    "print(precision_list)\n"
   ]
  },
  {
   "cell_type": "code",
   "execution_count": 75,
   "metadata": {},
   "outputs": [
    {
     "name": "stdout",
     "output_type": "stream",
     "text": [
      "Precision\n",
      "0.52\n"
     ]
    }
   ],
   "source": [
    "#Avg precision for google_W2V\n",
    "print(\"Precision\")\n",
    "sum=0.000\n",
    "for i in precision_list:\n",
    "    sum=sum+i\n",
    "sum\n",
    "print(sum/5)       "
   ]
  },
  {
   "cell_type": "code",
   "execution_count": 105,
   "metadata": {},
   "outputs": [
    {
     "name": "stdout",
     "output_type": "stream",
     "text": [
      "MRR\n",
      "[1.0, 0.5, 0.5, 1.0, 0.3333333333333333]\n",
      "0.6666666666666667\n"
     ]
    }
   ],
   "source": [
    "#MRR\n",
    "print(\"MRR\")\n",
    "mrr_list=[]\n",
    "for i in n1:\n",
    "\n",
    "        d1=pd.read_csv(w2v_google+str(i)+'.csv')\n",
    "        d2=d1['Relevant'].tolist()\n",
    "        #print(d2)\n",
    "        a0=mrr(d2,1)\n",
    "        #print(a0)\n",
    "        mrr_list.append(a0)\n",
    "        \n",
    "print(mrr_list)\n",
    "sum=0\n",
    "for i in mrr_list:\n",
    "    sum=sum+i\n",
    "print(sum/5)\n"
   ]
  },
  {
   "cell_type": "markdown",
   "metadata": {},
   "source": [
    "# FastText"
   ]
  },
  {
   "cell_type": "code",
   "execution_count": 77,
   "metadata": {},
   "outputs": [
    {
     "name": "stdout",
     "output_type": "stream",
     "text": [
      "[0.8, 0.4, 0.6, 0.4, 0.6]\n"
     ]
    }
   ],
   "source": [
    "precision_list=[]\n",
    "for i in n1:\n",
    "\n",
    "        ##d1=pd.read_csv('/home/ndl/Result3/FastText_CosSim_'+str(i)+'.csv')\n",
    "        #d1=pd.read_csv('/home/ndl/Result4/FastText_CosSim_'+str(i)+'.csv')\n",
    "        d1=pd.read_csv(ft+str(i)+'.csv')\n",
    "        precision_list.append(cal_precision(d1))\n",
    "print(precision_list)\n"
   ]
  },
  {
   "cell_type": "code",
   "execution_count": 78,
   "metadata": {},
   "outputs": [
    {
     "name": "stdout",
     "output_type": "stream",
     "text": [
      "FastText Precision\n",
      "0.56\n"
     ]
    }
   ],
   "source": [
    "##Avg precision for Fasttext\n",
    "print(\"FastText Precision\")\n",
    "sum=0.000\n",
    "for i in precision_list:\n",
    "    sum=sum+i\n",
    "sum\n",
    "print(sum/5)       "
   ]
  },
  {
   "cell_type": "code",
   "execution_count": 104,
   "metadata": {},
   "outputs": [
    {
     "name": "stdout",
     "output_type": "stream",
     "text": [
      "FastText MRR\n",
      "[1.0, 0.5, 0.5, 1.0, 1.0]\n",
      "0.8\n"
     ]
    }
   ],
   "source": [
    "#MRR\n",
    "print(\"FastText MRR\")\n",
    "mrr_list=[]\n",
    "for i in n1:\n",
    "\n",
    "        d1=pd.read_csv(ft+str(i)+'.csv')\n",
    "        d2=d1['Relevant'].tolist()\n",
    "        #print(d2)\n",
    "        a0=mrr(d2,1)\n",
    "        #print(a0)\n",
    "        mrr_list.append(a0)\n",
    "        \n",
    "print(mrr_list)\n",
    "sum=0\n",
    "for i in mrr_list:\n",
    "    sum=sum+i\n",
    "print(sum/5)\n"
   ]
  },
  {
   "cell_type": "markdown",
   "metadata": {},
   "source": [
    "# Glove"
   ]
  },
  {
   "cell_type": "code",
   "execution_count": 80,
   "metadata": {},
   "outputs": [
    {
     "name": "stdout",
     "output_type": "stream",
     "text": [
      "[0.6, 0.6, 0.6, 0.4, 0.6]\n"
     ]
    }
   ],
   "source": [
    "precision_list=[]\n",
    "for i in n1:\n",
    "\n",
    "        #d1=pd.read_csv('/home/ndl/Result3/Glove_CosSim_'+str(i)+'.csv')\n",
    "        d1=pd.read_csv(glove+str(i)+'.csv')\n",
    "        precision_list.append(cal_precision(d1))\n",
    "print(precision_list)\n"
   ]
  },
  {
   "cell_type": "code",
   "execution_count": 81,
   "metadata": {},
   "outputs": [
    {
     "name": "stdout",
     "output_type": "stream",
     "text": [
      "glove precision\n",
      "0.5599999999999999\n"
     ]
    }
   ],
   "source": [
    "#Avg precision for glove\n",
    "print(\"glove precision\")\n",
    "sum=0.000\n",
    "for i in precision_list:\n",
    "    sum=sum+i\n",
    "sum\n",
    "print(sum/5)"
   ]
  },
  {
   "cell_type": "code",
   "execution_count": 103,
   "metadata": {},
   "outputs": [
    {
     "name": "stdout",
     "output_type": "stream",
     "text": [
      "glove mrr\n",
      "[1.0, 0.5, 1.0, 1.0, 0.3333333333333333]\n",
      "0.7666666666666667\n"
     ]
    }
   ],
   "source": [
    "#MRR\n",
    "print(\"glove mrr\")\n",
    "mrr_list=[]\n",
    "for i in n1:\n",
    "\n",
    "        d1=pd.read_csv(glove+str(i)+'.csv')\n",
    "        d2=d1['Relevant'].tolist()\n",
    "        #print(d2)\n",
    "        a0=mrr(d2,1)\n",
    "        #print(a0)\n",
    "        mrr_list.append(a0)\n",
    "        \n",
    "print(mrr_list)\n",
    "sum=0\n",
    "for i in mrr_list:\n",
    "    sum=sum+i\n",
    "print(sum/5)\n"
   ]
  },
  {
   "cell_type": "markdown",
   "metadata": {},
   "source": [
    "# Glove_Twitter"
   ]
  },
  {
   "cell_type": "code",
   "execution_count": 83,
   "metadata": {},
   "outputs": [
    {
     "name": "stdout",
     "output_type": "stream",
     "text": [
      "[0.8, 0.6, 0.6, 0.6, 0.8]\n"
     ]
    }
   ],
   "source": [
    "precision_list=[]\n",
    "for i in n1:\n",
    "\n",
    "        #d1=pd.read_csv('/home/ndl/Result3/Glove_Twitter_CosSim_'+str(i)+'.csv')\n",
    "        d1=pd.read_csv(glove_twitter+str(i)+'.csv')\n",
    "        precision_list.append(cal_precision(d1))\n",
    "print(precision_list)\n"
   ]
  },
  {
   "cell_type": "code",
   "execution_count": 84,
   "metadata": {},
   "outputs": [
    {
     "name": "stdout",
     "output_type": "stream",
     "text": [
      "glove_twitter precision\n",
      "0.68\n"
     ]
    }
   ],
   "source": [
    "#Avg precision for glove_twitter\n",
    "print(\"glove_twitter precision\")\n",
    "sum=0.000\n",
    "for i in precision_list:\n",
    "    sum=sum+i\n",
    "sum\n",
    "print(sum/5)"
   ]
  },
  {
   "cell_type": "code",
   "execution_count": 102,
   "metadata": {},
   "outputs": [
    {
     "name": "stdout",
     "output_type": "stream",
     "text": [
      "glove twitter MRR\n",
      "[0.5, 1.0, 1.0, 1.0, 1.0]\n",
      "0.9\n"
     ]
    }
   ],
   "source": [
    "print(\"glove twitter MRR\")\n",
    "mrr_list=[]\n",
    "for i in n1:\n",
    "\n",
    "        #d1=pd.read_csv('/home/ndl/Result3/Glove_Twitter_CosSim_'+str(i)+'.csv')\n",
    "        #d1=pd.read_csv('/home/ndl/Result3/Glove_Twitter_CosSim_'+str(i)+'.csv')\n",
    "        #d1=pd.read_csv('/home/ndl/Result3/Glove_Twitter_CosSim_'+str(i)+'.csv')\n",
    "        d1=pd.read_csv(glove_twitter+str(i)+'.csv')\n",
    "        d2=d1['Relevant'].tolist()\n",
    "        #print(d2)\n",
    "        a0=mrr(d2,1)\n",
    "        #print(a0)\n",
    "        mrr_list.append(a0)\n",
    "        \n",
    "print(mrr_list)\n",
    "sum=0\n",
    "for i in mrr_list:\n",
    "    sum=sum+i\n",
    "print(sum/5)\n"
   ]
  },
  {
   "cell_type": "markdown",
   "metadata": {},
   "source": [
    "# CountVec"
   ]
  },
  {
   "cell_type": "code",
   "execution_count": 86,
   "metadata": {},
   "outputs": [],
   "source": [
    "\n",
    "def mrr(d2,c):\n",
    "    #c=1\n",
    "    for i in d2:\n",
    "        if i==1:\n",
    "            #print(c)\n",
    "            return (1/c)\n",
    "            break\n",
    "        c=c+1\n",
    "        \n",
    "    return 0\n",
    "    "
   ]
  },
  {
   "cell_type": "code",
   "execution_count": 87,
   "metadata": {},
   "outputs": [
    {
     "name": "stdout",
     "output_type": "stream",
     "text": [
      "[0.4, 0.0, 0.4, 0.4, 0.4]\n"
     ]
    }
   ],
   "source": [
    "#Avg precision for CountVec\n",
    "\n",
    "precision_list=[]\n",
    "for i in n1:\n",
    "\n",
    "        #d1=pd.read_csv('/home/ndl/Result3/Count_Vec_CosSim_'+str(i)+'.csv')\n",
    "        d1=pd.read_csv(countvec+str(i)+'.csv')\n",
    "        precision_list.append(cal_precision(d1))\n",
    "print(precision_list)\n"
   ]
  },
  {
   "cell_type": "code",
   "execution_count": 88,
   "metadata": {},
   "outputs": [
    {
     "name": "stdout",
     "output_type": "stream",
     "text": [
      "Countvec precision\n",
      "0.32\n"
     ]
    }
   ],
   "source": [
    "#Avg precision for CountVec\n",
    "print(\"Countvec precision\")\n",
    "sum=0.000\n",
    "for i in precision_list:\n",
    "    sum=sum+i\n",
    "sum\n",
    "print(sum/5)"
   ]
  },
  {
   "cell_type": "code",
   "execution_count": 101,
   "metadata": {},
   "outputs": [
    {
     "name": "stdout",
     "output_type": "stream",
     "text": [
      "countvec MRR\n",
      "[1.0, 0, 1.0, 0.3333333333333333, 1.0]\n",
      "0.6666666666666667\n"
     ]
    }
   ],
   "source": [
    "#MRR of Countvec\n",
    "print(\"countvec MRR\")\n",
    "mrr_list=[]\n",
    "for i in n1:\n",
    "\n",
    "        #d1=pd.read_csv('/home/ndl/Result4/Word2Vec_CosSim_'+str(i)+'.csv')\n",
    "        #d1=pd.read_csv('/home/ndl/Result4/TFIDF_Vec_CosSim_'+str(i)+'.csv')\n",
    "        #d1=pd.read_csv('/home/ndl/Result4/Noun_Overlap_CosSim_'+str(i)+'.csv')\n",
    "        d1=pd.read_csv(countvec+str(i)+'.csv')\n",
    "        \n",
    "        d2=d1['Relevant'].tolist()\n",
    "        #print(d2)\n",
    "        a0=mrr(d2,1)\n",
    "        #print(a0)\n",
    "        mrr_list.append(a0)\n",
    "        \n",
    "print(mrr_list)\n",
    "sum=0\n",
    "for i in mrr_list:\n",
    "    sum=sum+i\n",
    "print(sum/5)\n"
   ]
  },
  {
   "cell_type": "markdown",
   "metadata": {},
   "source": [
    "# TFIDF"
   ]
  },
  {
   "cell_type": "code",
   "execution_count": 90,
   "metadata": {},
   "outputs": [
    {
     "name": "stdout",
     "output_type": "stream",
     "text": [
      "[0.6, 0.2, 0.6, 0.4, 0.4]\n"
     ]
    }
   ],
   "source": [
    "#Avg precision for TFIDF\n",
    "precision_list=[]\n",
    "for i in n1:\n",
    "\n",
    "        #d1=pd.read_csv('/home/ndl/Result3/TFIDF_Vec_CosSim_'+str(i)+'.csv')\n",
    "        d1=pd.read_csv(tfidf+str(i)+'.csv')\n",
    "        precision_list.append(cal_precision(d1))\n",
    "print(precision_list)\n"
   ]
  },
  {
   "cell_type": "code",
   "execution_count": 91,
   "metadata": {},
   "outputs": [
    {
     "name": "stdout",
     "output_type": "stream",
     "text": [
      "TFIDF precision\n",
      "0.43999999999999995\n"
     ]
    }
   ],
   "source": [
    "#Avg precision for TFIDF\n",
    "print(\"TFIDF precision\")\n",
    "sum=0.000\n",
    "for i in precision_list:\n",
    "    sum=sum+i\n",
    "sum\n",
    "print(sum/5)"
   ]
  },
  {
   "cell_type": "code",
   "execution_count": 100,
   "metadata": {},
   "outputs": [
    {
     "name": "stdout",
     "output_type": "stream",
     "text": [
      "TFIDF MRR\n",
      "[0.5, 0.5, 1.0, 1.0, 1.0]\n",
      "0.8\n"
     ]
    }
   ],
   "source": [
    "#MRR of TFIDF\n",
    "print(\"TFIDF MRR\")\n",
    "mrr_list=[]\n",
    "for i in n1:\n",
    "\n",
    "        #d1=pd.read_csv('/home/ndl/Result4/Word2Vec_CosSim_'+str(i)+'.csv')\n",
    "        d1=pd.read_csv(tfidf+str(i)+'.csv')\n",
    "        #d1=pd.read_csv('/home/ndl/Result4/Noun_Overlap_CosSim_'+str(i)+'.csv')\n",
    "        #d1=pd.read_csv('/home/ndl/Result4/Count_Vec_CosSim_'+str(i)+'.csv')\n",
    "        \n",
    "        d2=d1['Relevant'].tolist()\n",
    "        #print(d2)\n",
    "        a0=mrr(d2,1)\n",
    "        #print(a0)\n",
    "        mrr_list.append(a0)\n",
    "        \n",
    "print(mrr_list)\n",
    "sum=0\n",
    "for i in mrr_list:\n",
    "    sum=sum+i\n",
    "print(sum/5)\n"
   ]
  },
  {
   "cell_type": "markdown",
   "metadata": {},
   "source": [
    "# W2V"
   ]
  },
  {
   "cell_type": "code",
   "execution_count": 93,
   "metadata": {},
   "outputs": [
    {
     "name": "stdout",
     "output_type": "stream",
     "text": [
      "[0.6, 0.6, 0.6, 0.2, 0.4]\n"
     ]
    }
   ],
   "source": [
    "#Avg precision for Word2Vec\n",
    "\n",
    "precision_list=[]\n",
    "for i in n1:\n",
    "\n",
    "        #d1=pd.read_csv('/home/ndl/Result3/Word2Vec_CosSim_'+str(i)+'.csv')\n",
    "        d1=pd.read_csv(w2v+str(i)+'.csv')\n",
    "        precision_list.append(cal_precision(d1))\n",
    "print(precision_list)\n"
   ]
  },
  {
   "cell_type": "code",
   "execution_count": 94,
   "metadata": {},
   "outputs": [
    {
     "name": "stdout",
     "output_type": "stream",
     "text": [
      "W2V Precision\n",
      "0.48\n"
     ]
    }
   ],
   "source": [
    "#Avg precision for Word2Vec\n",
    "print(\"W2V Precision\")\n",
    "sum=0.000\n",
    "for i in precision_list:\n",
    "    sum=sum+i\n",
    "sum\n",
    "print(sum/5)"
   ]
  },
  {
   "cell_type": "code",
   "execution_count": 97,
   "metadata": {},
   "outputs": [
    {
     "name": "stdout",
     "output_type": "stream",
     "text": [
      "W2V MRR\n",
      "[1.0, 1.0, 1.0, 0.5, 1.0]\n",
      "0.9\n"
     ]
    }
   ],
   "source": [
    "#MRR of word2vec\n",
    "print(\"W2V MRR\")\n",
    "mrr_list=[]\n",
    "for i in n1:\n",
    "\n",
    "        d1=pd.read_csv(w2v+str(i)+'.csv')\n",
    "        #d1=pd.read_csv(tfidf+str(i)+'.csv')\n",
    "        #d1=pd.read_csv('/home/ndl/Result4/Noun_Overlap_CosSim_'+str(i)+'.csv')\n",
    "        #d1=pd.read_csv('/home/ndl/Result4/Count_Vec_CosSim_'+str(i)+'.csv')\n",
    "        \n",
    "        d2=d1['Relevant'].tolist()\n",
    "        #print(d2)\n",
    "        a0=mrr(d2,1)\n",
    "        #print(a0)\n",
    "        mrr_list.append(a0)\n",
    "        \n",
    "print(mrr_list)\n",
    "sum=0\n",
    "for i in mrr_list:\n",
    "    sum=sum+i\n",
    "print(sum/5)\n"
   ]
  },
  {
   "cell_type": "code",
   "execution_count": null,
   "metadata": {},
   "outputs": [],
   "source": []
  },
  {
   "cell_type": "code",
   "execution_count": null,
   "metadata": {},
   "outputs": [],
   "source": []
  }
 ],
 "metadata": {
  "kernelspec": {
   "display_name": "Python 3",
   "language": "python",
   "name": "python3"
  },
  "language_info": {
   "codemirror_mode": {
    "name": "ipython",
    "version": 3
   },
   "file_extension": ".py",
   "mimetype": "text/x-python",
   "name": "python",
   "nbconvert_exporter": "python",
   "pygments_lexer": "ipython3",
   "version": "3.7.6"
  }
 },
 "nbformat": 4,
 "nbformat_minor": 4
}
